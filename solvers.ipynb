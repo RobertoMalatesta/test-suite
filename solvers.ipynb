{
 "cells": [
  {
   "cell_type": "code",
   "execution_count": 1,
   "metadata": {},
   "outputs": [
    {
     "data": {
      "text/plain": [
       "true"
      ]
     },
     "execution_count": 1,
     "metadata": {},
     "output_type": "execute_result"
    }
   ],
   "source": [
    "// imports & setups\n",
    "import {Real} from 'quantlib/types';\n",
    "import {UnaryFunction} from 'quantlib/function';\n",
    "import {ISolver1D} from 'quantlib/math/solver1d';\n",
    "\n",
    "class F1 implements UnaryFunction<Real, Real> {\n",
    "    f(x: Real): Real { return x*x-1.0; }\n",
    "    d(x: Real): Real { return 2.0*x; }\n",
    "}\n",
    "\n",
    "class F2 implements UnaryFunction<Real, Real> {\n",
    "    f(x: Real): Real { return 1.0-x*x; }\n",
    "    d(x: Real): Real { return -2.0*x; }\n",
    "}\n",
    "\n",
    "class F3 implements UnaryFunction<Real, Real> {\n",
    "    f(x: Real): Real { return Math.atan(x-1); }\n",
    "    d(x: Real): Real { return 1.0 / (1.0+(x-1.0)*(x-1.0)); }\n",
    "}\n",
    "\n",
    "function test_not_bracketed(solver: ISolver1D, \n",
    "                            name: string, \n",
    "                            f: UnaryFunction<Real, Real>, \n",
    "                            guess: Real): void {\n",
    "    let accuracy: Array<number> = [ 1.0e-4, 1.0e-6, 1.0e-8 ];\n",
    "    let expected: Real = 1.0;\n",
    "    for(let i=0;i<accuracy.length;i++){\n",
    "      let root: Real = solver.solve1(f, accuracy[i], guess, 0.1);\n",
    "      if (Math.abs(root-expected) > accuracy[i]){\n",
    "        throw new Error(`solver (not bracketed):\n",
    "                                       expected: ${expected}\n",
    "                                     calculated: ${root}\n",
    "                                       accuracy: ${accuracy[i]}`);\n",
    "      }\n",
    "    }\n",
    "}\n",
    "\n",
    "function test_bracketed(solver: ISolver1D, \n",
    "                        name: string, \n",
    "                        f: UnaryFunction<Real, Real>, \n",
    "                        guess: Real): void {\n",
    "    let accuracy: Array<number> = [ 1.0e-4, 1.0e-6, 1.0e-8 ];\n",
    "    let expected: Real = 1.0;\n",
    "    for(let i=0;i<accuracy.length;i++){\n",
    "      // guess on the left side of the root, increasing function\n",
    "      let root: Real = solver.solve2(f, accuracy[i], guess, 0.0, 2.0);\n",
    "      if (Math.abs(root-expected) > accuracy[i]){\n",
    "        throw new Error(`solver (bracketed):\n",
    "                                   expected: ${expected}\n",
    "                                 calculated: ${root}\n",
    "                                   accuracy: ${accuracy[i]}`);\n",
    "      }\n",
    "    }\n",
    "}\n",
    "\n",
    "interface byRef {\n",
    "    result: Real;\n",
    "}\n",
    "\n",
    "class Probe implements UnaryFunction<Real, Real> {\n",
    "\n",
    "    constructor(result: byRef, offset: Real){\n",
    "      this._result = result;\n",
    "      this._offset = offset;\n",
    "      this._previous = result.result;\n",
    "    }\n",
    "\n",
    "    f(x: Real): Real {\n",
    "      this._result.result = x;\n",
    "      return this._previous + this._offset - x*x;\n",
    "    }\n",
    "\n",
    "    d(x: Real): Real {\n",
    "      return 2.0*x;\n",
    "    }\n",
    "\n",
    "    dummy(): Real {return this._result.result;}\n",
    "\n",
    "    private _result: byRef;\n",
    "    private _previous: Real;\n",
    "    private _offset: Real;\n",
    "}\n",
    "\n",
    "function test_last_call_with_root(solver: ISolver1D, \n",
    "                                  name: string, \n",
    "                                  bracketed: boolean, \n",
    "                                  accuracy: Real): void {\n",
    "    let mins: Array<Real> = [ 3.0, 2.25, 1.5, 1.0 ];\n",
    "    let maxs: Array<Real> = [ 7.0, 5.75, 4.5, 3.0 ];\n",
    "    let steps: Array<Real> = [ 0.2, 0.2, 0.1, 0.1 ];\n",
    "    let offsets: Array<Real> = [ 25.0, 11.0, 5.0, 1.0 ];\n",
    "    let guesses: Array<Real> = [ 4.5, 4.5, 2.5, 2.5 ];\n",
    "    //let expected: Array<Real> = [ 5.0, 4.0, 3.0, 2.0 ];\n",
    "\n",
    "    let argument: byRef = {result: 0.0};\n",
    "    let result: Real;\n",
    "\n",
    "    for(let i=0; i<4; ++i) {\n",
    "      if(bracketed) {\n",
    "        result = solver.solve2(new Probe(argument, offsets[i]), accuracy, guesses[i], mins[i], maxs[i]);\n",
    "      } else {\n",
    "        result = solver.solve1(new Probe(argument, offsets[i]), accuracy, guesses[i], steps[i]);\n",
    "      }\n",
    "\n",
    "      let error: Real = Math.abs(result - argument.result);\n",
    "      // no floating-point comparison: the solver should have\n",
    "      // called the function with the very same value it's\n",
    "      // returning\n",
    "      if(result != argument.result)\n",
    "        throw new Error(`${name} solver ${bracketed? 'bracket': 'not bracketed'}\n",
    "                                   index:   ${i}\n",
    "                                expected:   ${result}\n",
    "                              calculated: ${argument.result}\n",
    "                                   error: ${error}`);\n",
    "    }\n",
    "}\n",
    "\n",
    "function test_solver(solver: ISolver1D, \n",
    "                     name: string, \n",
    "                     accuracy: Real | any): void {\n",
    "    // guess on the left side of the root, increasing function\n",
    "    test_not_bracketed(solver, name, new F1(), 0.5);\n",
    "    test_bracketed(solver, name, new F1(), 0.5);\n",
    "    // guess on the right side of the root, increasing function\n",
    "    test_not_bracketed(solver, name, new F1(), 1.5);\n",
    "    test_bracketed(solver, name, new F1(), 1.5);\n",
    "    // guess on the left side of the root, decreasing function\n",
    "    test_not_bracketed(solver, name, new F2(), 0.5);\n",
    "    test_bracketed(solver, name, new F2(), 0.5);\n",
    "    // guess on the right side of the root, decreasing function\n",
    "    test_not_bracketed(solver, name, new F2(), 1.5);\n",
    "    test_bracketed(solver, name, new F2(), 1.5);\n",
    "    // situation where bisection is used in the finite difference\n",
    "    // newton solver as the first step and where the initial\n",
    "    // guess is equal to the next estimate (which causes an infinite\n",
    "    // derivative if we do not handle this case with special care)\n",
    "    test_not_bracketed(solver, name, new F3(), 1.00001);\n",
    "    // check that the last function call is made with the root value\n",
    "    if(accuracy != null) {\n",
    "        test_last_call_with_root(solver, name, false, accuracy);\n",
    "        test_last_call_with_root(solver, name, true, accuracy);\n",
    "    }\n",
    "}"
   ]
  },
  {
   "cell_type": "code",
   "execution_count": 2,
   "metadata": {},
   "outputs": [
    {
     "data": {
      "text/plain": [
       "undefined"
      ]
     },
     "execution_count": 2,
     "metadata": {},
     "output_type": "execute_result"
    }
   ],
   "source": [
    "// Testing Brent solver...\n",
    "import {Brent} from 'quantlib/math/solvers1d/brent';\n",
    "test_solver(new Brent(), 'Brent', 1.0e-6);"
   ]
  },
  {
   "cell_type": "code",
   "execution_count": 3,
   "metadata": {},
   "outputs": [
    {
     "data": {
      "text/plain": [
       "undefined"
      ]
     },
     "execution_count": 3,
     "metadata": {},
     "output_type": "execute_result"
    }
   ],
   "source": [
    "// Testing bisection solver...\n",
    "import {Bisection} from 'quantlib/math/solvers1d/bisection';\n",
    "test_solver(new Bisection(), 'Bisection', 1.0e-6);"
   ]
  },
  {
   "cell_type": "code",
   "execution_count": 4,
   "metadata": {},
   "outputs": [
    {
     "data": {
      "text/plain": [
       "undefined"
      ]
     },
     "execution_count": 4,
     "metadata": {},
     "output_type": "execute_result"
    }
   ],
   "source": [
    "// Testing false-position solver...\n",
    "import {FalsePosition} from 'quantlib/math/solvers1d/falseposition';\n",
    "test_solver(new FalsePosition(), 'FalsePosition', 1.0e-6);"
   ]
  },
  {
   "cell_type": "code",
   "execution_count": 5,
   "metadata": {},
   "outputs": [
    {
     "data": {
      "text/plain": [
       "undefined"
      ]
     },
     "execution_count": 5,
     "metadata": {},
     "output_type": "execute_result"
    }
   ],
   "source": [
    "// Testing Newton solver...\n",
    "import {Newton} from 'quantlib/math/solvers1d/newton';\n",
    "test_solver(new Newton(), 'Newton', 1.0e-12);"
   ]
  },
  {
   "cell_type": "code",
   "execution_count": 6,
   "metadata": {},
   "outputs": [
    {
     "data": {
      "text/plain": [
       "undefined"
      ]
     },
     "execution_count": 6,
     "metadata": {},
     "output_type": "execute_result"
    }
   ],
   "source": [
    "// Testing Newton-safe solver...\n",
    "import {NewtonSafe} from 'quantlib/math/solvers1d/newtonsafe';\n",
    "test_solver(new NewtonSafe(), 'NewtonSafe', 1.0e-9);"
   ]
  },
  {
   "cell_type": "code",
   "execution_count": 7,
   "metadata": {},
   "outputs": [
    {
     "data": {
      "text/plain": [
       "undefined"
      ]
     },
     "execution_count": 7,
     "metadata": {},
     "output_type": "execute_result"
    }
   ],
   "source": [
    "// Testing finite-difference Newton-safe solver...\n",
    "import {FiniteDifferenceNewtonSafe} from 'quantlib/math/solvers1d/finitedifferencenewtonsafe';\n",
    "import {QL_EPSILON} from 'quantlib/defines';\n",
    "test_solver(new FiniteDifferenceNewtonSafe(), 'FiniteDifferenceNewtonSafe', QL_EPSILON);"
   ]
  },
  {
   "cell_type": "code",
   "execution_count": 8,
   "metadata": {},
   "outputs": [
    {
     "data": {
      "text/plain": [
       "undefined"
      ]
     },
     "execution_count": 8,
     "metadata": {},
     "output_type": "execute_result"
    }
   ],
   "source": [
    "// Testing Ridder solver...\n",
    "import {Ridder} from 'quantlib/math/solvers1d/ridder';\n",
    "test_solver(new Ridder(), 'Ridder', 1.0e-6);"
   ]
  },
  {
   "cell_type": "code",
   "execution_count": 9,
   "metadata": {},
   "outputs": [
    {
     "data": {
      "text/plain": [
       "undefined"
      ]
     },
     "execution_count": 9,
     "metadata": {},
     "output_type": "execute_result"
    }
   ],
   "source": [
    "// Testing secant solver...\n",
    "import {Secant} from 'quantlib/math/solvers1d/secant';\n",
    "test_solver(new Secant(), 'Secant', 1.0e-6);"
   ]
  },
  {
   "cell_type": "code",
   "execution_count": null,
   "metadata": {},
   "outputs": [],
   "source": []
  }
 ],
 "metadata": {
  "kernelspec": {
   "display_name": "Typescript 2.4",
   "language": "typescript",
   "name": "typescript"
  },
  "language_info": {
   "file_extension": ".ts",
   "mimetype": "text/x-typescript",
   "name": "typescript",
   "version": "2.4.1"
  }
 },
 "nbformat": 4,
 "nbformat_minor": 2
}
